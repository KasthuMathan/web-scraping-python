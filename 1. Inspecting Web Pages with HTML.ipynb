{
 "cells": [
  {
   "cell_type": "markdown",
   "id": "d876dc00-c841-43e5-b844-d662fcafaf02",
   "metadata": {},
   "source": [
    "# HTML and Inspecting a Web Page"
   ]
  },
  {
   "cell_type": "raw",
   "id": "2989368e-ed36-4afa-a272-ce77e3dc0725",
   "metadata": {},
   "source": [
    "<html>\n",
    "    <head>\n",
    "        <title>My First Web Page</title>\n",
    "    </head>\n",
    "\n",
    "    <body>\n",
    "        <h1>My First Web Page</h1>\n",
    "        <p><b>Hello World Wide Web!</b></P>\n",
    "        <p><i>Hello World Wide Web!</i></P>\n",
    "        <p><u>Hello World Wide Web!</u></P>\n",
    "        <p>This is my first web page</P>\n",
    "        <p>HTML tags can give <b><i>various</i></b>\n",
    "        <u>looks and format</u> to the content of this web page.</P>\n",
    "    </body>\n",
    "</html>"
   ]
  },
  {
   "cell_type": "markdown",
   "id": "1bce4bbd-04b4-45d1-9e47-7af3c8502a2b",
   "metadata": {},
   "source": [
    "https://www.scrapethissite.com/pages/forms/"
   ]
  },
  {
   "cell_type": "code",
   "execution_count": null,
   "id": "adf3fc06-97bc-4950-bda0-d54fcac84cc3",
   "metadata": {},
   "outputs": [],
   "source": []
  }
 ],
 "metadata": {
  "kernelspec": {
   "display_name": "Python [conda env:base] *",
   "language": "python",
   "name": "conda-base-py"
  },
  "language_info": {
   "codemirror_mode": {
    "name": "ipython",
    "version": 3
   },
   "file_extension": ".py",
   "mimetype": "text/x-python",
   "name": "python",
   "nbconvert_exporter": "python",
   "pygments_lexer": "ipython3",
   "version": "3.12.7"
  }
 },
 "nbformat": 4,
 "nbformat_minor": 5
}
